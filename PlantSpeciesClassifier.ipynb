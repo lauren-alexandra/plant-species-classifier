{
  "nbformat": 4,
  "nbformat_minor": 0,
  "metadata": {
    "colab": {
      "name": "PlantSpeciesClassifier.ipynb",
      "provenance": [],
      "collapsed_sections": []
    },
    "kernelspec": {
      "name": "python3",
      "display_name": "Python 3"
    }
  },
  "cells": [
    {
      "cell_type": "markdown",
      "metadata": {
        "id": "r5sPPLaK3C5Y"
      },
      "source": [
        "# Plant Species Classification\r\n",
        "\r\n",
        "The Aarhus University Signal Processing group, in collaboration with University of Southern Denmark, has released a dataset containing images of unique plants belonging to 12 species at several growth stages.\r\n",
        "\r\n",
        "The ability to differentiate between a weed and a crop seedling can mean better crop yields and better stewardship of the environment."
      ]
    },
    {
      "cell_type": "markdown",
      "metadata": {
        "id": "KIAPp9Z155Tn"
      },
      "source": [
        "# Problem:\r\n",
        "- Classify the image based on the pixel value.\r\n",
        "- The result of the model should be the number which is represented by the pixel values.\r\n",
        "- Use Supervised Learning method for it."
      ]
    },
    {
      "cell_type": "markdown",
      "metadata": {
        "id": "XNeQfvny59ab"
      },
      "source": [
        "# Data:\r\n",
        "- **label:** Total 12 unique values.\r\n",
        "- **pixel0, pixel1, pixel2, ..., pixel782, pixel783:** Each value in these columns is between 0 and 255. Which represents the pixel intensity. "
      ]
    },
    {
      "cell_type": "code",
      "metadata": {
        "id": "UjeYLntR3BPD",
        "colab": {
          "base_uri": "https://localhost:8080/",
          "height": 35
        },
        "outputId": "2c47eef2-1295-4353-e40d-47fa8f58c5b9"
      },
      "source": [
        "%tensorflow_version 2.x\r\n",
        "import tensorflow\r\n",
        "tensorflow.__version__"
      ],
      "execution_count": 1,
      "outputs": [
        {
          "output_type": "execute_result",
          "data": {
            "application/vnd.google.colaboratory.intrinsic+json": {
              "type": "string"
            },
            "text/plain": [
              "'2.4.1'"
            ]
          },
          "metadata": {
            "tags": []
          },
          "execution_count": 1
        }
      ]
    },
    {
      "cell_type": "code",
      "metadata": {
        "id": "Ng0BFI6f3BjP"
      },
      "source": [
        "import cv2\r\n",
        "import numpy as np\r\n",
        "import pandas as pd\r\n",
        "import seaborn as sns\r\n",
        "import matplotlib.pyplot as plt\r\n",
        "%matplotlib inline\r\n",
        "\r\n",
        "from tensorflow.keras import datasets, models, layers, optimizers\r\n",
        "from tensorflow.keras.preprocessing.image import ImageDataGenerator\r\n",
        "from tensorflow.keras.callbacks import ModelCheckpoint, EarlyStopping\r\n",
        "from google.colab.patches import cv2_imshow\r\n",
        "\r\n",
        "from sklearn import svm\r\n",
        "from sklearn.model_selection import train_test_split"
      ],
      "execution_count": 4,
      "outputs": []
    },
    {
      "cell_type": "markdown",
      "metadata": {
        "id": "JypEkPw46gMl"
      },
      "source": [
        "## Loading the data\r\n",
        "\r\n",
        "\r\n",
        "- images.npy and Label.csv \r\n",
        "- print shape of data\r\n",
        "- visualize the images in dataset"
      ]
    },
    {
      "cell_type": "code",
      "metadata": {
        "id": "f9N-0h8e61uY"
      },
      "source": [
        ""
      ],
      "execution_count": null,
      "outputs": []
    },
    {
      "cell_type": "markdown",
      "metadata": {
        "id": "-AIMO4aC7ddj"
      },
      "source": [
        "# Data Pre-processing\r\n",
        "\r\n",
        "- Normalization\r\n",
        "- Gaussian Blurring\r\n",
        "- Visualize data after pre-processing"
      ]
    },
    {
      "cell_type": "code",
      "metadata": {
        "id": "7TZhhm9i7pfh"
      },
      "source": [
        ""
      ],
      "execution_count": null,
      "outputs": []
    },
    {
      "cell_type": "markdown",
      "metadata": {
        "id": "LLDpzrxz7p6o"
      },
      "source": [
        "# Make data compatible\r\n",
        "\r\n",
        "- Convert labels to one-hot-vectors.\r\n",
        "- Print the label for y_train[0].\r\n",
        "- Split the dataset into training, testing, and validation set.\r\n",
        "(First split images and labels into training and testing set with test_size = 0.3. Then further split test data\r\n",
        "into test and validation set with test_size = 0.5)\r\n",
        "-Check the shape of data, Reshape data into shapes compatible with Keras models if it’s not already. If it’s\r\n",
        "already in the compatible shape, then comment in the notebook that it’s already in compatible shape."
      ]
    },
    {
      "cell_type": "code",
      "metadata": {
        "id": "OQ3BSirY7-Un"
      },
      "source": [
        ""
      ],
      "execution_count": null,
      "outputs": []
    },
    {
      "cell_type": "markdown",
      "metadata": {
        "id": "IgBhL6g57-14"
      },
      "source": [
        "# Build CNN\r\n",
        "\r\n",
        "- Define layers.\r\n",
        "- Set optimizer and loss function. (Use Adam optimizer and categorical crossentropy.)\r\n"
      ]
    },
    {
      "cell_type": "code",
      "metadata": {
        "id": "qbkoqrtr8H05"
      },
      "source": [
        ""
      ],
      "execution_count": null,
      "outputs": []
    },
    {
      "cell_type": "markdown",
      "metadata": {
        "id": "pw9rbFhs8IYm"
      },
      "source": [
        "# Modelling and Evaluation\r\n",
        "\r\n",
        "- Fit and evaluate model and print confusion matrix"
      ]
    },
    {
      "cell_type": "code",
      "metadata": {
        "id": "Yr98wL2D8Nyz"
      },
      "source": [
        ""
      ],
      "execution_count": null,
      "outputs": []
    },
    {
      "cell_type": "markdown",
      "metadata": {
        "id": "_cpfbjYf8ONI"
      },
      "source": [
        "# Visualize Predictions\r\n",
        "\r\n",
        "- Visualize predictions for x_test[2], x_test[3], x_test[33], x_test[36], x_test[59]"
      ]
    },
    {
      "cell_type": "code",
      "metadata": {
        "id": "7YocTrfs8SHC"
      },
      "source": [
        ""
      ],
      "execution_count": null,
      "outputs": []
    }
  ]
}